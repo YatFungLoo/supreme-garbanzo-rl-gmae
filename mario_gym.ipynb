{
 "cells": [
  {
   "cell_type": "markdown",
   "id": "f8a8bf07",
   "metadata": {},
   "source": [
    "## Setup Mario"
   ]
  },
  {
   "cell_type": "code",
   "execution_count": 6,
   "id": "80b05468",
   "metadata": {},
   "outputs": [
    {
     "name": "stdout",
     "output_type": "stream",
     "text": [
      "Requirement already satisfied: gym_super_mario_bros==7.3.0 in /home/dexter/anaconda3/envs/rl_gym/lib/python3.10/site-packages (from -r requirement.txt (line 2)) (7.3.0)\n",
      "Requirement already satisfied: gym==0.24.1 in /home/dexter/anaconda3/envs/rl_gym/lib/python3.10/site-packages (from -r requirement.txt (line 3)) (0.24.1)\n",
      "Requirement already satisfied: torch in /home/dexter/anaconda3/envs/rl_gym/lib/python3.10/site-packages (from -r requirement.txt (line 5)) (1.13.1)\n",
      "Requirement already satisfied: torchvision in /home/dexter/anaconda3/envs/rl_gym/lib/python3.10/site-packages (from -r requirement.txt (line 6)) (0.14.1)\n",
      "Requirement already satisfied: torchaudio in /home/dexter/anaconda3/envs/rl_gym/lib/python3.10/site-packages (from -r requirement.txt (line 7)) (0.13.1)\n",
      "Requirement already satisfied: stable-baselines3[extra] in /home/dexter/anaconda3/envs/rl_gym/lib/python3.10/site-packages (from -r requirement.txt (line 8)) (1.2.0)\n",
      "Requirement already satisfied: nes-py in /home/dexter/anaconda3/envs/rl_gym/lib/python3.10/site-packages (from -r requirement.txt (line 9)) (8.2.1)\n",
      "Requirement already satisfied: jupyter in /home/dexter/anaconda3/envs/rl_gym/lib/python3.10/site-packages (from -r requirement.txt (line 10)) (1.0.0)\n",
      "Requirement already satisfied: numpy in /home/dexter/anaconda3/envs/rl_gym/lib/python3.10/site-packages (from -r requirement.txt (line 11)) (1.24.2)\n",
      "Requirement already satisfied: matplotlib in /home/dexter/anaconda3/envs/rl_gym/lib/python3.10/site-packages (from -r requirement.txt (line 12)) (3.6.3)\n",
      "Requirement already satisfied: gym-notices>=0.0.4 in /home/dexter/anaconda3/envs/rl_gym/lib/python3.10/site-packages (from gym==0.24.1->-r requirement.txt (line 3)) (0.0.8)\n",
      "Requirement already satisfied: cloudpickle>=1.2.0 in /home/dexter/anaconda3/envs/rl_gym/lib/python3.10/site-packages (from gym==0.24.1->-r requirement.txt (line 3)) (2.2.1)\n",
      "Requirement already satisfied: nvidia-cublas-cu11==11.10.3.66 in /home/dexter/anaconda3/envs/rl_gym/lib/python3.10/site-packages (from torch->-r requirement.txt (line 5)) (11.10.3.66)\n",
      "Requirement already satisfied: nvidia-cudnn-cu11==8.5.0.96 in /home/dexter/anaconda3/envs/rl_gym/lib/python3.10/site-packages (from torch->-r requirement.txt (line 5)) (8.5.0.96)\n",
      "Requirement already satisfied: typing-extensions in /home/dexter/anaconda3/envs/rl_gym/lib/python3.10/site-packages (from torch->-r requirement.txt (line 5)) (4.4.0)\n",
      "Requirement already satisfied: nvidia-cuda-nvrtc-cu11==11.7.99 in /home/dexter/anaconda3/envs/rl_gym/lib/python3.10/site-packages (from torch->-r requirement.txt (line 5)) (11.7.99)\n",
      "Requirement already satisfied: nvidia-cuda-runtime-cu11==11.7.99 in /home/dexter/anaconda3/envs/rl_gym/lib/python3.10/site-packages (from torch->-r requirement.txt (line 5)) (11.7.99)\n",
      "Requirement already satisfied: wheel in /home/dexter/anaconda3/envs/rl_gym/lib/python3.10/site-packages (from nvidia-cublas-cu11==11.10.3.66->torch->-r requirement.txt (line 5)) (0.37.1)\n",
      "Requirement already satisfied: setuptools in /home/dexter/anaconda3/envs/rl_gym/lib/python3.10/site-packages (from nvidia-cublas-cu11==11.10.3.66->torch->-r requirement.txt (line 5)) (65.6.3)\n",
      "Requirement already satisfied: pillow!=8.3.*,>=5.3.0 in /home/dexter/anaconda3/envs/rl_gym/lib/python3.10/site-packages (from torchvision->-r requirement.txt (line 6)) (9.4.0)\n",
      "Requirement already satisfied: requests in /home/dexter/anaconda3/envs/rl_gym/lib/python3.10/site-packages (from torchvision->-r requirement.txt (line 6)) (2.28.1)\n",
      "Requirement already satisfied: pandas in /home/dexter/anaconda3/envs/rl_gym/lib/python3.10/site-packages (from stable-baselines3[extra]->-r requirement.txt (line 8)) (1.5.3)\n",
      "Collecting tensorboard>=2.2.0\n",
      "  Downloading tensorboard-2.12.0-py3-none-any.whl (5.6 MB)\n",
      "\u001b[2K     \u001b[38;2;114;156;31m━━━━━━━━━━━━━━━━━━━━━━━━━━━━━━━━━━━━━━━━\u001b[0m \u001b[32m5.6/5.6 MB\u001b[0m \u001b[31m11.8 MB/s\u001b[0m eta \u001b[36m0:00:00\u001b[0mm eta \u001b[36m0:00:01\u001b[0m[36m0:00:01\u001b[0m\n",
      "\u001b[?25hRequirement already satisfied: psutil in /home/dexter/anaconda3/envs/rl_gym/lib/python3.10/site-packages (from stable-baselines3[extra]->-r requirement.txt (line 8)) (5.9.0)\n",
      "Collecting atari-py~=0.2.0\n",
      "  Downloading atari-py-0.2.9.tar.gz (540 kB)\n",
      "\u001b[2K     \u001b[38;2;114;156;31m━━━━━━━━━━━━━━━━━━━━━━━━━━━━━━━━━━━━━━\u001b[0m \u001b[32m540.6/540.6 kB\u001b[0m \u001b[31m26.2 MB/s\u001b[0m eta \u001b[36m0:00:00\u001b[0m\n",
      "\u001b[?25h  Preparing metadata (setup.py) ... \u001b[?25ldone\n",
      "\u001b[?25hCollecting opencv-python\n",
      "  Downloading opencv_python-4.7.0.68-cp37-abi3-manylinux_2_17_x86_64.manylinux2014_x86_64.whl (61.8 MB)\n",
      "\u001b[2K     \u001b[38;2;114;156;31m━━━━━━━━━━━━━━━━━━━━━━━━━━━━━━━━━━━━━━━━\u001b[0m \u001b[32m61.8/61.8 MB\u001b[0m \u001b[31m19.2 MB/s\u001b[0m eta \u001b[36m0:00:00\u001b[0mm eta \u001b[36m0:00:01\u001b[0m[36m0:00:01\u001b[0m\n",
      "\u001b[?25hRequirement already satisfied: tqdm>=4.48.2 in /home/dexter/anaconda3/envs/rl_gym/lib/python3.10/site-packages (from nes-py->-r requirement.txt (line 9)) (4.64.1)\n",
      "Requirement already satisfied: pyglet<=1.5.21,>=1.4.0 in /home/dexter/anaconda3/envs/rl_gym/lib/python3.10/site-packages (from nes-py->-r requirement.txt (line 9)) (1.5.21)\n",
      "Requirement already satisfied: notebook in /home/dexter/anaconda3/envs/rl_gym/lib/python3.10/site-packages (from jupyter->-r requirement.txt (line 10)) (6.5.2)\n",
      "Requirement already satisfied: ipywidgets in /home/dexter/anaconda3/envs/rl_gym/lib/python3.10/site-packages (from jupyter->-r requirement.txt (line 10)) (7.6.5)\n",
      "Requirement already satisfied: ipykernel in /home/dexter/anaconda3/envs/rl_gym/lib/python3.10/site-packages (from jupyter->-r requirement.txt (line 10)) (6.19.2)\n",
      "Requirement already satisfied: qtconsole in /home/dexter/anaconda3/envs/rl_gym/lib/python3.10/site-packages (from jupyter->-r requirement.txt (line 10)) (5.4.0)\n",
      "Requirement already satisfied: nbconvert in /home/dexter/anaconda3/envs/rl_gym/lib/python3.10/site-packages (from jupyter->-r requirement.txt (line 10)) (6.5.4)\n",
      "Requirement already satisfied: jupyter-console in /home/dexter/anaconda3/envs/rl_gym/lib/python3.10/site-packages (from jupyter->-r requirement.txt (line 10)) (6.4.4)\n",
      "Requirement already satisfied: fonttools>=4.22.0 in /home/dexter/anaconda3/envs/rl_gym/lib/python3.10/site-packages (from matplotlib->-r requirement.txt (line 12)) (4.38.0)\n",
      "Requirement already satisfied: python-dateutil>=2.7 in /home/dexter/anaconda3/envs/rl_gym/lib/python3.10/site-packages (from matplotlib->-r requirement.txt (line 12)) (2.8.2)\n",
      "Requirement already satisfied: kiwisolver>=1.0.1 in /home/dexter/anaconda3/envs/rl_gym/lib/python3.10/site-packages (from matplotlib->-r requirement.txt (line 12)) (1.4.4)\n",
      "Requirement already satisfied: pyparsing>=2.2.1 in /home/dexter/anaconda3/envs/rl_gym/lib/python3.10/site-packages (from matplotlib->-r requirement.txt (line 12)) (3.0.9)\n",
      "Requirement already satisfied: packaging>=20.0 in /home/dexter/anaconda3/envs/rl_gym/lib/python3.10/site-packages (from matplotlib->-r requirement.txt (line 12)) (22.0)\n",
      "Requirement already satisfied: contourpy>=1.0.1 in /home/dexter/anaconda3/envs/rl_gym/lib/python3.10/site-packages (from matplotlib->-r requirement.txt (line 12)) (1.0.7)\n",
      "Requirement already satisfied: cycler>=0.10 in /home/dexter/anaconda3/envs/rl_gym/lib/python3.10/site-packages (from matplotlib->-r requirement.txt (line 12)) (0.11.0)\n",
      "Requirement already satisfied: six in /home/dexter/anaconda3/envs/rl_gym/lib/python3.10/site-packages (from atari-py~=0.2.0->stable-baselines3[extra]->-r requirement.txt (line 8)) (1.16.0)\n",
      "Collecting google-auth<3,>=1.6.3\n",
      "  Downloading google_auth-2.16.0-py2.py3-none-any.whl (177 kB)\n",
      "\u001b[2K     \u001b[38;2;114;156;31m━━━━━━━━━━━━━━━━━━━━━━━━━━━━━━━━━━━━━━\u001b[0m \u001b[32m177.8/177.8 kB\u001b[0m \u001b[31m32.7 MB/s\u001b[0m eta \u001b[36m0:00:00\u001b[0m\n",
      "\u001b[?25hCollecting tensorboard-data-server<0.8.0,>=0.7.0\n",
      "  Downloading tensorboard_data_server-0.7.0-py3-none-manylinux2014_x86_64.whl (6.6 MB)\n",
      "\u001b[2K     \u001b[38;2;114;156;31m━━━━━━━━━━━━━━━━━━━━━━━━━━━━━━━━━━━━━━━━\u001b[0m \u001b[32m6.6/6.6 MB\u001b[0m \u001b[31m25.4 MB/s\u001b[0m eta \u001b[36m0:00:00\u001b[0mm eta \u001b[36m0:00:01\u001b[0m0:01\u001b[0m:01\u001b[0m\n",
      "\u001b[?25hCollecting absl-py>=0.4\n",
      "  Downloading absl_py-1.4.0-py3-none-any.whl (126 kB)\n",
      "\u001b[2K     \u001b[38;2;114;156;31m━━━━━━━━━━━━━━━━━━━━━━━━━━━━━━━━━━━━━━\u001b[0m \u001b[32m126.5/126.5 kB\u001b[0m \u001b[31m31.4 MB/s\u001b[0m eta \u001b[36m0:00:00\u001b[0m\n",
      "\u001b[?25hCollecting werkzeug>=1.0.1\n",
      "  Downloading Werkzeug-2.2.2-py3-none-any.whl (232 kB)\n",
      "\u001b[2K     \u001b[38;2;114;156;31m━━━━━━━━━━━━━━━━━━━━━━━━━━━━━━━━━━━━━━\u001b[0m \u001b[32m232.7/232.7 kB\u001b[0m \u001b[31m52.0 MB/s\u001b[0m eta \u001b[36m0:00:00\u001b[0m\n",
      "\u001b[?25hCollecting google-auth-oauthlib<0.5,>=0.4.1\n"
     ]
    },
    {
     "name": "stdout",
     "output_type": "stream",
     "text": [
      "  Downloading google_auth_oauthlib-0.4.6-py2.py3-none-any.whl (18 kB)\n",
      "Collecting protobuf>=3.19.6\n",
      "  Downloading protobuf-4.21.12-cp37-abi3-manylinux2014_x86_64.whl (409 kB)\n",
      "\u001b[2K     \u001b[38;2;114;156;31m━━━━━━━━━━━━━━━━━━━━━━━━━━━━━━━━━━━━━━\u001b[0m \u001b[32m409.8/409.8 kB\u001b[0m \u001b[31m32.7 MB/s\u001b[0m eta \u001b[36m0:00:00\u001b[0m\n",
      "\u001b[?25hCollecting tensorboard-plugin-wit>=1.6.0\n",
      "  Downloading tensorboard_plugin_wit-1.8.1-py3-none-any.whl (781 kB)\n",
      "\u001b[2K     \u001b[38;2;114;156;31m━━━━━━━━━━━━━━━━━━━━━━━━━━━━━━━━━━━━━━\u001b[0m \u001b[32m781.3/781.3 kB\u001b[0m \u001b[31m26.3 MB/s\u001b[0m eta \u001b[36m0:00:00\u001b[0m\n",
      "\u001b[?25hCollecting markdown>=2.6.8\n",
      "  Downloading Markdown-3.4.1-py3-none-any.whl (93 kB)\n",
      "\u001b[2K     \u001b[38;2;114;156;31m━━━━━━━━━━━━━━━━━━━━━━━━━━━━━━━━━━━━━━━━\u001b[0m \u001b[32m93.3/93.3 kB\u001b[0m \u001b[31m49.7 MB/s\u001b[0m eta \u001b[36m0:00:00\u001b[0m\n",
      "\u001b[?25hCollecting grpcio>=1.48.2\n",
      "  Downloading grpcio-1.51.1-cp310-cp310-manylinux_2_17_x86_64.manylinux2014_x86_64.whl (4.8 MB)\n",
      "\u001b[2K     \u001b[38;2;114;156;31m━━━━━━━━━━━━━━━━━━━━━━━━━━━━━━━━━━━━━━━━\u001b[0m \u001b[32m4.8/4.8 MB\u001b[0m \u001b[31m25.4 MB/s\u001b[0m eta \u001b[36m0:00:00\u001b[0mm eta \u001b[36m0:00:01\u001b[0m0:01\u001b[0m:01\u001b[0m\n",
      "\u001b[?25hRequirement already satisfied: urllib3<1.27,>=1.21.1 in /home/dexter/anaconda3/envs/rl_gym/lib/python3.10/site-packages (from requests->torchvision->-r requirement.txt (line 6)) (1.26.14)\n",
      "Requirement already satisfied: certifi>=2017.4.17 in /home/dexter/anaconda3/envs/rl_gym/lib/python3.10/site-packages (from requests->torchvision->-r requirement.txt (line 6)) (2022.12.7)\n",
      "Requirement already satisfied: charset-normalizer<3,>=2 in /home/dexter/anaconda3/envs/rl_gym/lib/python3.10/site-packages (from requests->torchvision->-r requirement.txt (line 6)) (2.0.4)\n",
      "Requirement already satisfied: idna<4,>=2.5 in /home/dexter/anaconda3/envs/rl_gym/lib/python3.10/site-packages (from requests->torchvision->-r requirement.txt (line 6)) (3.4)\n",
      "Requirement already satisfied: jupyter-client>=6.1.12 in /home/dexter/anaconda3/envs/rl_gym/lib/python3.10/site-packages (from ipykernel->jupyter->-r requirement.txt (line 10)) (7.4.8)\n",
      "Requirement already satisfied: matplotlib-inline>=0.1 in /home/dexter/anaconda3/envs/rl_gym/lib/python3.10/site-packages (from ipykernel->jupyter->-r requirement.txt (line 10)) (0.1.6)\n",
      "Requirement already satisfied: nest-asyncio in /home/dexter/anaconda3/envs/rl_gym/lib/python3.10/site-packages (from ipykernel->jupyter->-r requirement.txt (line 10)) (1.5.6)\n",
      "Requirement already satisfied: traitlets>=5.4.0 in /home/dexter/anaconda3/envs/rl_gym/lib/python3.10/site-packages (from ipykernel->jupyter->-r requirement.txt (line 10)) (5.7.1)\n",
      "Requirement already satisfied: tornado>=6.1 in /home/dexter/anaconda3/envs/rl_gym/lib/python3.10/site-packages (from ipykernel->jupyter->-r requirement.txt (line 10)) (6.2)\n",
      "Requirement already satisfied: debugpy>=1.0 in /home/dexter/anaconda3/envs/rl_gym/lib/python3.10/site-packages (from ipykernel->jupyter->-r requirement.txt (line 10)) (1.5.1)\n",
      "Requirement already satisfied: pyzmq>=17 in /home/dexter/anaconda3/envs/rl_gym/lib/python3.10/site-packages (from ipykernel->jupyter->-r requirement.txt (line 10)) (23.2.0)\n",
      "Requirement already satisfied: comm>=0.1.1 in /home/dexter/anaconda3/envs/rl_gym/lib/python3.10/site-packages (from ipykernel->jupyter->-r requirement.txt (line 10)) (0.1.2)\n",
      "Requirement already satisfied: ipython>=7.23.1 in /home/dexter/anaconda3/envs/rl_gym/lib/python3.10/site-packages (from ipykernel->jupyter->-r requirement.txt (line 10)) (8.8.0)\n",
      "Requirement already satisfied: widgetsnbextension~=3.5.0 in /home/dexter/anaconda3/envs/rl_gym/lib/python3.10/site-packages (from ipywidgets->jupyter->-r requirement.txt (line 10)) (3.5.2)\n",
      "Requirement already satisfied: ipython-genutils~=0.2.0 in /home/dexter/anaconda3/envs/rl_gym/lib/python3.10/site-packages (from ipywidgets->jupyter->-r requirement.txt (line 10)) (0.2.0)\n",
      "Requirement already satisfied: jupyterlab-widgets>=1.0.0 in /home/dexter/anaconda3/envs/rl_gym/lib/python3.10/site-packages (from ipywidgets->jupyter->-r requirement.txt (line 10)) (1.0.0)\n",
      "Requirement already satisfied: nbformat>=4.2.0 in /home/dexter/anaconda3/envs/rl_gym/lib/python3.10/site-packages (from ipywidgets->jupyter->-r requirement.txt (line 10)) (5.7.0)\n",
      "Requirement already satisfied: prompt-toolkit!=3.0.0,!=3.0.1,<3.1.0,>=2.0.0 in /home/dexter/anaconda3/envs/rl_gym/lib/python3.10/site-packages (from jupyter-console->jupyter->-r requirement.txt (line 10)) (3.0.36)\n",
      "Requirement already satisfied: pygments in /home/dexter/anaconda3/envs/rl_gym/lib/python3.10/site-packages (from jupyter-console->jupyter->-r requirement.txt (line 10)) (2.11.2)\n",
      "Requirement already satisfied: mistune<2,>=0.8.1 in /home/dexter/anaconda3/envs/rl_gym/lib/python3.10/site-packages (from nbconvert->jupyter->-r requirement.txt (line 10)) (0.8.4)\n",
      "Requirement already satisfied: pandocfilters>=1.4.1 in /home/dexter/anaconda3/envs/rl_gym/lib/python3.10/site-packages (from nbconvert->jupyter->-r requirement.txt (line 10)) (1.5.0)\n",
      "Requirement already satisfied: MarkupSafe>=2.0 in /home/dexter/anaconda3/envs/rl_gym/lib/python3.10/site-packages (from nbconvert->jupyter->-r requirement.txt (line 10)) (2.1.1)\n",
      "Requirement already satisfied: entrypoints>=0.2.2 in /home/dexter/anaconda3/envs/rl_gym/lib/python3.10/site-packages (from nbconvert->jupyter->-r requirement.txt (line 10)) (0.4)\n",
      "Requirement already satisfied: jupyterlab-pygments in /home/dexter/anaconda3/envs/rl_gym/lib/python3.10/site-packages (from nbconvert->jupyter->-r requirement.txt (line 10)) (0.1.2)\n",
      "Requirement already satisfied: beautifulsoup4 in /home/dexter/anaconda3/envs/rl_gym/lib/python3.10/site-packages (from nbconvert->jupyter->-r requirement.txt (line 10)) (4.11.1)\n",
      "Requirement already satisfied: jupyter-core>=4.7 in /home/dexter/anaconda3/envs/rl_gym/lib/python3.10/site-packages (from nbconvert->jupyter->-r requirement.txt (line 10)) (5.1.1)\n",
      "Requirement already satisfied: lxml in /home/dexter/anaconda3/envs/rl_gym/lib/python3.10/site-packages (from nbconvert->jupyter->-r requirement.txt (line 10)) (4.9.1)\n",
      "Requirement already satisfied: nbclient>=0.5.0 in /home/dexter/anaconda3/envs/rl_gym/lib/python3.10/site-packages (from nbconvert->jupyter->-r requirement.txt (line 10)) (0.5.13)\n",
      "Requirement already satisfied: tinycss2 in /home/dexter/anaconda3/envs/rl_gym/lib/python3.10/site-packages (from nbconvert->jupyter->-r requirement.txt (line 10)) (1.2.1)\n",
      "Requirement already satisfied: defusedxml in /home/dexter/anaconda3/envs/rl_gym/lib/python3.10/site-packages (from nbconvert->jupyter->-r requirement.txt (line 10)) (0.7.1)\n",
      "Requirement already satisfied: jinja2>=3.0 in /home/dexter/anaconda3/envs/rl_gym/lib/python3.10/site-packages (from nbconvert->jupyter->-r requirement.txt (line 10)) (3.1.2)\n",
      "Requirement already satisfied: bleach in /home/dexter/anaconda3/envs/rl_gym/lib/python3.10/site-packages (from nbconvert->jupyter->-r requirement.txt (line 10)) (4.1.0)\n",
      "Requirement already satisfied: Send2Trash>=1.8.0 in /home/dexter/anaconda3/envs/rl_gym/lib/python3.10/site-packages (from notebook->jupyter->-r requirement.txt (line 10)) (1.8.0)\n",
      "Requirement already satisfied: prometheus-client in /home/dexter/anaconda3/envs/rl_gym/lib/python3.10/site-packages (from notebook->jupyter->-r requirement.txt (line 10)) (0.14.1)\n",
      "Requirement already satisfied: terminado>=0.8.3 in /home/dexter/anaconda3/envs/rl_gym/lib/python3.10/site-packages (from notebook->jupyter->-r requirement.txt (line 10)) (0.17.1)\n",
      "Requirement already satisfied: nbclassic>=0.4.7 in /home/dexter/anaconda3/envs/rl_gym/lib/python3.10/site-packages (from notebook->jupyter->-r requirement.txt (line 10)) (0.4.8)\n",
      "Requirement already satisfied: argon2-cffi in /home/dexter/anaconda3/envs/rl_gym/lib/python3.10/site-packages (from notebook->jupyter->-r requirement.txt (line 10)) (21.3.0)\n",
      "Requirement already satisfied: pytz>=2020.1 in /home/dexter/anaconda3/envs/rl_gym/lib/python3.10/site-packages (from pandas->stable-baselines3[extra]->-r requirement.txt (line 8)) (2022.7)\n",
      "Requirement already satisfied: qtpy>=2.0.1 in /home/dexter/anaconda3/envs/rl_gym/lib/python3.10/site-packages (from qtconsole->jupyter->-r requirement.txt (line 10)) (2.2.0)\n",
      "Collecting cachetools<6.0,>=2.0.0\n",
      "  Downloading cachetools-5.3.0-py3-none-any.whl (9.3 kB)\n",
      "Collecting rsa<5,>=3.1.4\n"
     ]
    },
    {
     "name": "stdout",
     "output_type": "stream",
     "text": [
      "  Downloading rsa-4.9-py3-none-any.whl (34 kB)\n",
      "Collecting pyasn1-modules>=0.2.1\n",
      "  Downloading pyasn1_modules-0.2.8-py2.py3-none-any.whl (155 kB)\n",
      "\u001b[2K     \u001b[38;2;114;156;31m━━━━━━━━━━━━━━━━━━━━━━━━━━━━━━━━━━━━━━\u001b[0m \u001b[32m155.3/155.3 kB\u001b[0m \u001b[31m32.3 MB/s\u001b[0m eta \u001b[36m0:00:00\u001b[0m\n",
      "\u001b[?25hCollecting requests-oauthlib>=0.7.0\n",
      "  Downloading requests_oauthlib-1.3.1-py2.py3-none-any.whl (23 kB)\n",
      "Requirement already satisfied: pickleshare in /home/dexter/anaconda3/envs/rl_gym/lib/python3.10/site-packages (from ipython>=7.23.1->ipykernel->jupyter->-r requirement.txt (line 10)) (0.7.5)\n",
      "Requirement already satisfied: pexpect>4.3 in /home/dexter/anaconda3/envs/rl_gym/lib/python3.10/site-packages (from ipython>=7.23.1->ipykernel->jupyter->-r requirement.txt (line 10)) (4.8.0)\n",
      "Requirement already satisfied: jedi>=0.16 in /home/dexter/anaconda3/envs/rl_gym/lib/python3.10/site-packages (from ipython>=7.23.1->ipykernel->jupyter->-r requirement.txt (line 10)) (0.18.1)\n",
      "Requirement already satisfied: backcall in /home/dexter/anaconda3/envs/rl_gym/lib/python3.10/site-packages (from ipython>=7.23.1->ipykernel->jupyter->-r requirement.txt (line 10)) (0.2.0)\n",
      "Requirement already satisfied: decorator in /home/dexter/anaconda3/envs/rl_gym/lib/python3.10/site-packages (from ipython>=7.23.1->ipykernel->jupyter->-r requirement.txt (line 10)) (5.1.1)\n",
      "Requirement already satisfied: stack-data in /home/dexter/anaconda3/envs/rl_gym/lib/python3.10/site-packages (from ipython>=7.23.1->ipykernel->jupyter->-r requirement.txt (line 10)) (0.2.0)\n",
      "Requirement already satisfied: platformdirs>=2.5 in /home/dexter/anaconda3/envs/rl_gym/lib/python3.10/site-packages (from jupyter-core>=4.7->nbconvert->jupyter->-r requirement.txt (line 10)) (2.5.2)\n",
      "Requirement already satisfied: jupyter-server>=1.8 in /home/dexter/anaconda3/envs/rl_gym/lib/python3.10/site-packages (from nbclassic>=0.4.7->notebook->jupyter->-r requirement.txt (line 10)) (1.23.4)\n",
      "Requirement already satisfied: notebook-shim>=0.1.0 in /home/dexter/anaconda3/envs/rl_gym/lib/python3.10/site-packages (from nbclassic>=0.4.7->notebook->jupyter->-r requirement.txt (line 10)) (0.2.2)\n",
      "Requirement already satisfied: jsonschema>=2.6 in /home/dexter/anaconda3/envs/rl_gym/lib/python3.10/site-packages (from nbformat>=4.2.0->ipywidgets->jupyter->-r requirement.txt (line 10)) (4.16.0)\n",
      "Requirement already satisfied: fastjsonschema in /home/dexter/anaconda3/envs/rl_gym/lib/python3.10/site-packages (from nbformat>=4.2.0->ipywidgets->jupyter->-r requirement.txt (line 10)) (2.16.2)\n",
      "Requirement already satisfied: wcwidth in /home/dexter/anaconda3/envs/rl_gym/lib/python3.10/site-packages (from prompt-toolkit!=3.0.0,!=3.0.1,<3.1.0,>=2.0.0->jupyter-console->jupyter->-r requirement.txt (line 10)) (0.2.5)\n",
      "Requirement already satisfied: ptyprocess in /home/dexter/anaconda3/envs/rl_gym/lib/python3.10/site-packages (from terminado>=0.8.3->notebook->jupyter->-r requirement.txt (line 10)) (0.7.0)\n",
      "Requirement already satisfied: argon2-cffi-bindings in /home/dexter/anaconda3/envs/rl_gym/lib/python3.10/site-packages (from argon2-cffi->notebook->jupyter->-r requirement.txt (line 10)) (21.2.0)\n",
      "Requirement already satisfied: soupsieve>1.2 in /home/dexter/anaconda3/envs/rl_gym/lib/python3.10/site-packages (from beautifulsoup4->nbconvert->jupyter->-r requirement.txt (line 10)) (2.3.2.post1)\n",
      "Requirement already satisfied: webencodings in /home/dexter/anaconda3/envs/rl_gym/lib/python3.10/site-packages (from bleach->nbconvert->jupyter->-r requirement.txt (line 10)) (0.5.1)\n",
      "Requirement already satisfied: parso<0.9.0,>=0.8.0 in /home/dexter/anaconda3/envs/rl_gym/lib/python3.10/site-packages (from jedi>=0.16->ipython>=7.23.1->ipykernel->jupyter->-r requirement.txt (line 10)) (0.8.3)\n",
      "Requirement already satisfied: pyrsistent!=0.17.0,!=0.17.1,!=0.17.2,>=0.14.0 in /home/dexter/anaconda3/envs/rl_gym/lib/python3.10/site-packages (from jsonschema>=2.6->nbformat>=4.2.0->ipywidgets->jupyter->-r requirement.txt (line 10)) (0.18.0)\n",
      "Requirement already satisfied: attrs>=17.4.0 in /home/dexter/anaconda3/envs/rl_gym/lib/python3.10/site-packages (from jsonschema>=2.6->nbformat>=4.2.0->ipywidgets->jupyter->-r requirement.txt (line 10)) (22.1.0)\n",
      "Requirement already satisfied: anyio<4,>=3.1.0 in /home/dexter/anaconda3/envs/rl_gym/lib/python3.10/site-packages (from jupyter-server>=1.8->nbclassic>=0.4.7->notebook->jupyter->-r requirement.txt (line 10)) (3.5.0)\n",
      "Requirement already satisfied: websocket-client in /home/dexter/anaconda3/envs/rl_gym/lib/python3.10/site-packages (from jupyter-server>=1.8->nbclassic>=0.4.7->notebook->jupyter->-r requirement.txt (line 10)) (0.58.0)\n",
      "Collecting pyasn1<0.5.0,>=0.4.6\n",
      "  Downloading pyasn1-0.4.8-py2.py3-none-any.whl (77 kB)\n",
      "\u001b[2K     \u001b[38;2;114;156;31m━━━━━━━━━━━━━━━━━━━━━━━━━━━━━━━━━━━━━━━━\u001b[0m \u001b[32m77.1/77.1 kB\u001b[0m \u001b[31m44.3 MB/s\u001b[0m eta \u001b[36m0:00:00\u001b[0m\n",
      "\u001b[?25hCollecting oauthlib>=3.0.0\n",
      "  Downloading oauthlib-3.2.2-py3-none-any.whl (151 kB)\n",
      "\u001b[2K     \u001b[38;2;114;156;31m━━━━━━━━━━━━━━━━━━━━━━━━━━━━━━━━━━━━━━\u001b[0m \u001b[32m151.7/151.7 kB\u001b[0m \u001b[31m68.2 MB/s\u001b[0m eta \u001b[36m0:00:00\u001b[0m\n",
      "\u001b[?25hRequirement already satisfied: cffi>=1.0.1 in /home/dexter/anaconda3/envs/rl_gym/lib/python3.10/site-packages (from argon2-cffi-bindings->argon2-cffi->notebook->jupyter->-r requirement.txt (line 10)) (1.15.1)\n",
      "Requirement already satisfied: pure-eval in /home/dexter/anaconda3/envs/rl_gym/lib/python3.10/site-packages (from stack-data->ipython>=7.23.1->ipykernel->jupyter->-r requirement.txt (line 10)) (0.2.2)\n",
      "Requirement already satisfied: asttokens in /home/dexter/anaconda3/envs/rl_gym/lib/python3.10/site-packages (from stack-data->ipython>=7.23.1->ipykernel->jupyter->-r requirement.txt (line 10)) (2.0.5)\n",
      "Requirement already satisfied: executing in /home/dexter/anaconda3/envs/rl_gym/lib/python3.10/site-packages (from stack-data->ipython>=7.23.1->ipykernel->jupyter->-r requirement.txt (line 10)) (0.8.3)\n",
      "Requirement already satisfied: sniffio>=1.1 in /home/dexter/anaconda3/envs/rl_gym/lib/python3.10/site-packages (from anyio<4,>=3.1.0->jupyter-server>=1.8->nbclassic>=0.4.7->notebook->jupyter->-r requirement.txt (line 10)) (1.2.0)\n",
      "Requirement already satisfied: pycparser in /home/dexter/anaconda3/envs/rl_gym/lib/python3.10/site-packages (from cffi>=1.0.1->argon2-cffi-bindings->argon2-cffi->notebook->jupyter->-r requirement.txt (line 10)) (2.21)\n",
      "Building wheels for collected packages: atari-py\n",
      "  Building wheel for atari-py (setup.py) ... \u001b[?25ldone\n",
      "\u001b[?25h  Created wheel for atari-py: filename=atari_py-0.2.9-cp310-cp310-linux_x86_64.whl size=2552743 sha256=8b4597d0c71f53f76a192d77b76cbd46639488c84feb48a5554fe81caeadd082\n",
      "  Stored in directory: /home/dexter/.cache/pip/wheels/64/ba/ae/108ce8e7d54f6f5eff349f4a0bada27b3fdc322619937bf318\n",
      "Successfully built atari-py\n",
      "Installing collected packages: tensorboard-plugin-wit, pyasn1, werkzeug, tensorboard-data-server, rsa, pyasn1-modules, protobuf, opencv-python, oauthlib, markdown, grpcio, cachetools, atari-py, absl-py, requests-oauthlib, google-auth, google-auth-oauthlib, tensorboard\n",
      "Successfully installed absl-py-1.4.0 atari-py-0.2.9 cachetools-5.3.0 google-auth-2.16.0 google-auth-oauthlib-0.4.6 grpcio-1.51.1 markdown-3.4.1 oauthlib-3.2.2 opencv-python-4.7.0.68 protobuf-4.21.12 pyasn1-0.4.8 pyasn1-modules-0.2.8 requests-oauthlib-1.3.1 rsa-4.9 tensorboard-2.12.0 tensorboard-data-server-0.7.0 tensorboard-plugin-wit-1.8.1 werkzeug-2.2.2\n",
      "Note: you may need to restart the kernel to use updated packages.\n"
     ]
    }
   ],
   "source": [
    "pip install -r requirement.txt"
   ]
  },
  {
   "cell_type": "code",
   "execution_count": 2,
   "id": "c41e1429",
   "metadata": {},
   "outputs": [
    {
     "name": "stderr",
     "output_type": "stream",
     "text": [
      "Warning: Gym version v0.24.1 has a number of critical issues with `gym.make` such that environment observation and action spaces are incorrectly evaluated, raising incorrect errors and warning . It is recommend to downgrading to v0.23.1 or upgrading to v0.25.1\n"
     ]
    }
   ],
   "source": [
    "# Import game\n",
    "import gym_super_mario_bros\n",
    "# Import joypad wrapper\n",
    "from nes_py.wrappers import JoypadSpace\n",
    "# Import simplified control\n",
    "from gym_super_mario_bros.actions import SIMPLE_MOVEMENT"
   ]
  },
  {
   "cell_type": "code",
   "execution_count": 3,
   "id": "8ee287eb",
   "metadata": {},
   "outputs": [
    {
     "name": "stderr",
     "output_type": "stream",
     "text": [
      "/home/dexter/anaconda3/envs/rl_gym/lib/python3.10/site-packages/gym/utils/passive_env_checker.py:97: UserWarning: \u001b[33mWARN: We recommend you to use a symmetric and normalized Box action space (range=[-1, 1]) https://stable-baselines3.readthedocs.io/en/master/guide/rl_tips.html\u001b[0m\n",
      "  logger.warn(\n"
     ]
    }
   ],
   "source": [
    "# Setup game\n",
    "env = gym_super_mario_bros.make('SuperMarioBros-v3')\n",
    "# Simple movement allows better training (less complicated control)\n",
    "env = JoypadSpace(env, SIMPLE_MOVEMENT)"
   ]
  },
  {
   "cell_type": "code",
   "execution_count": 29,
   "id": "472371a8",
   "metadata": {},
   "outputs": [],
   "source": [
    "# Print functions\n",
    "# SIMPLE_MOVEMENT\n",
    "# env.action_space.sample()\n",
    "# SIMPLE_MOVEMENT[env.action_space.sample()]\n",
    "# env.observation_space.shape"
   ]
  },
  {
   "cell_type": "code",
   "execution_count": 25,
   "id": "e8142477",
   "metadata": {
    "collapsed": true
   },
   "outputs": [
    {
     "name": "stderr",
     "output_type": "stream",
     "text": [
      "/home/dexter/anaconda3/envs/rl_gym/lib/python3.10/site-packages/gym/utils/passive_env_checker.py:297: UserWarning: \u001b[33mWARN: No render modes was declared in the environment (env.metadata['render_modes'] is None or not defined), you may have trouble when calling `.render()`\u001b[0m\n",
      "  logger.warn(\n",
      "/home/dexter/anaconda3/envs/rl_gym/lib/python3.10/site-packages/gym/utils/passive_env_checker.py:305: UserWarning: \u001b[33mWARN: No render fps was declared in the environment (env.metadata['render_fps'] is None or not defined), rendering may occur at inconsistent fps\u001b[0m\n",
      "  logger.warn(\n",
      "/home/dexter/anaconda3/envs/rl_gym/lib/python3.10/site-packages/gym_super_mario_bros/smb_env.py:148: RuntimeWarning: overflow encountered in scalar subtract\n",
      "  return (self.ram[0x86] - self.ram[0x071c]) % 256\n"
     ]
    },
    {
     "ename": "KeyboardInterrupt",
     "evalue": "",
     "output_type": "error",
     "traceback": [
      "\u001b[0;31m---------------------------------------------------------------------------\u001b[0m",
      "\u001b[0;31mKeyboardInterrupt\u001b[0m                         Traceback (most recent call last)",
      "Cell \u001b[0;32mIn[25], line 10\u001b[0m\n\u001b[1;32m      8\u001b[0m     env\u001b[38;5;241m.\u001b[39mreset()\n\u001b[1;32m      9\u001b[0m \u001b[38;5;66;03m# do env.action_space.sample() generates a random action\u001b[39;00m\n\u001b[0;32m---> 10\u001b[0m state, reward, done, info \u001b[38;5;241m=\u001b[39m \u001b[43menv\u001b[49m\u001b[38;5;241;43m.\u001b[39;49m\u001b[43mstep\u001b[49m\u001b[43m(\u001b[49m\u001b[43menv\u001b[49m\u001b[38;5;241;43m.\u001b[39;49m\u001b[43maction_space\u001b[49m\u001b[38;5;241;43m.\u001b[39;49m\u001b[43msample\u001b[49m\u001b[43m(\u001b[49m\u001b[43m)\u001b[49m\u001b[43m)\u001b[49m\n\u001b[1;32m     11\u001b[0m \u001b[38;5;66;03m# show the game\u001b[39;00m\n\u001b[1;32m     12\u001b[0m env\u001b[38;5;241m.\u001b[39mrender()\n",
      "File \u001b[0;32m~/anaconda3/envs/rl_gym/lib/python3.10/site-packages/nes_py/wrappers/joypad_space.py:74\u001b[0m, in \u001b[0;36mJoypadSpace.step\u001b[0;34m(self, action)\u001b[0m\n\u001b[1;32m     59\u001b[0m \u001b[38;5;124;03m\"\"\"\u001b[39;00m\n\u001b[1;32m     60\u001b[0m \u001b[38;5;124;03mTake a step using the given action.\u001b[39;00m\n\u001b[1;32m     61\u001b[0m \n\u001b[0;32m   (...)\u001b[0m\n\u001b[1;32m     71\u001b[0m \n\u001b[1;32m     72\u001b[0m \u001b[38;5;124;03m\"\"\"\u001b[39;00m\n\u001b[1;32m     73\u001b[0m \u001b[38;5;66;03m# take the step and record the output\u001b[39;00m\n\u001b[0;32m---> 74\u001b[0m \u001b[38;5;28;01mreturn\u001b[39;00m \u001b[38;5;28;43mself\u001b[39;49m\u001b[38;5;241;43m.\u001b[39;49m\u001b[43menv\u001b[49m\u001b[38;5;241;43m.\u001b[39;49m\u001b[43mstep\u001b[49m\u001b[43m(\u001b[49m\u001b[38;5;28;43mself\u001b[39;49m\u001b[38;5;241;43m.\u001b[39;49m\u001b[43m_action_map\u001b[49m\u001b[43m[\u001b[49m\u001b[43maction\u001b[49m\u001b[43m]\u001b[49m\u001b[43m)\u001b[49m\n",
      "File \u001b[0;32m~/anaconda3/envs/rl_gym/lib/python3.10/site-packages/gym/wrappers/time_limit.py:49\u001b[0m, in \u001b[0;36mTimeLimit.step\u001b[0;34m(self, action)\u001b[0m\n\u001b[1;32m     38\u001b[0m \u001b[38;5;28;01mdef\u001b[39;00m \u001b[38;5;21mstep\u001b[39m(\u001b[38;5;28mself\u001b[39m, action):\n\u001b[1;32m     39\u001b[0m     \u001b[38;5;124;03m\"\"\"Steps through the environment and if the number of steps elapsed exceeds ``max_episode_steps`` then truncate.\u001b[39;00m\n\u001b[1;32m     40\u001b[0m \n\u001b[1;32m     41\u001b[0m \u001b[38;5;124;03m    Args:\u001b[39;00m\n\u001b[0;32m   (...)\u001b[0m\n\u001b[1;32m     47\u001b[0m \u001b[38;5;124;03m        \"TimeLimit.truncated\"=False if the environment terminated\u001b[39;00m\n\u001b[1;32m     48\u001b[0m \u001b[38;5;124;03m    \"\"\"\u001b[39;00m\n\u001b[0;32m---> 49\u001b[0m     observation, reward, done, info \u001b[38;5;241m=\u001b[39m \u001b[38;5;28;43mself\u001b[39;49m\u001b[38;5;241;43m.\u001b[39;49m\u001b[43menv\u001b[49m\u001b[38;5;241;43m.\u001b[39;49m\u001b[43mstep\u001b[49m\u001b[43m(\u001b[49m\u001b[43maction\u001b[49m\u001b[43m)\u001b[49m\n\u001b[1;32m     50\u001b[0m     \u001b[38;5;28mself\u001b[39m\u001b[38;5;241m.\u001b[39m_elapsed_steps \u001b[38;5;241m+\u001b[39m\u001b[38;5;241m=\u001b[39m \u001b[38;5;241m1\u001b[39m\n\u001b[1;32m     51\u001b[0m     \u001b[38;5;28;01mif\u001b[39;00m \u001b[38;5;28mself\u001b[39m\u001b[38;5;241m.\u001b[39m_elapsed_steps \u001b[38;5;241m>\u001b[39m\u001b[38;5;241m=\u001b[39m \u001b[38;5;28mself\u001b[39m\u001b[38;5;241m.\u001b[39m_max_episode_steps:\n",
      "File \u001b[0;32m~/anaconda3/envs/rl_gym/lib/python3.10/site-packages/gym/wrappers/order_enforcing.py:37\u001b[0m, in \u001b[0;36mOrderEnforcing.step\u001b[0;34m(self, action)\u001b[0m\n\u001b[1;32m     35\u001b[0m \u001b[38;5;28;01mif\u001b[39;00m \u001b[38;5;129;01mnot\u001b[39;00m \u001b[38;5;28mself\u001b[39m\u001b[38;5;241m.\u001b[39m_has_reset:\n\u001b[1;32m     36\u001b[0m     \u001b[38;5;28;01mraise\u001b[39;00m ResetNeeded(\u001b[38;5;124m\"\u001b[39m\u001b[38;5;124mCannot call env.step() before calling env.reset()\u001b[39m\u001b[38;5;124m\"\u001b[39m)\n\u001b[0;32m---> 37\u001b[0m \u001b[38;5;28;01mreturn\u001b[39;00m \u001b[38;5;28;43mself\u001b[39;49m\u001b[38;5;241;43m.\u001b[39;49m\u001b[43menv\u001b[49m\u001b[38;5;241;43m.\u001b[39;49m\u001b[43mstep\u001b[49m\u001b[43m(\u001b[49m\u001b[43maction\u001b[49m\u001b[43m)\u001b[49m\n",
      "File \u001b[0;32m~/anaconda3/envs/rl_gym/lib/python3.10/site-packages/gym/wrappers/env_checker.py:41\u001b[0m, in \u001b[0;36mPassiveEnvChecker.step\u001b[0;34m(self, action)\u001b[0m\n\u001b[1;32m     39\u001b[0m     \u001b[38;5;28;01mreturn\u001b[39;00m passive_env_step_check(\u001b[38;5;28mself\u001b[39m\u001b[38;5;241m.\u001b[39menv, action)\n\u001b[1;32m     40\u001b[0m \u001b[38;5;28;01melse\u001b[39;00m:\n\u001b[0;32m---> 41\u001b[0m     \u001b[38;5;28;01mreturn\u001b[39;00m \u001b[38;5;28;43mself\u001b[39;49m\u001b[38;5;241;43m.\u001b[39;49m\u001b[43menv\u001b[49m\u001b[38;5;241;43m.\u001b[39;49m\u001b[43mstep\u001b[49m\u001b[43m(\u001b[49m\u001b[43maction\u001b[49m\u001b[43m)\u001b[49m\n",
      "File \u001b[0;32m~/anaconda3/envs/rl_gym/lib/python3.10/site-packages/nes_py/nes_env.py:300\u001b[0m, in \u001b[0;36mNESEnv.step\u001b[0;34m(self, action)\u001b[0m\n\u001b[1;32m    298\u001b[0m \u001b[38;5;28mself\u001b[39m\u001b[38;5;241m.\u001b[39mcontrollers[\u001b[38;5;241m0\u001b[39m][:] \u001b[38;5;241m=\u001b[39m action\n\u001b[1;32m    299\u001b[0m \u001b[38;5;66;03m# pass the action to the emulator as an unsigned byte\u001b[39;00m\n\u001b[0;32m--> 300\u001b[0m \u001b[43m_LIB\u001b[49m\u001b[38;5;241;43m.\u001b[39;49m\u001b[43mStep\u001b[49m\u001b[43m(\u001b[49m\u001b[38;5;28;43mself\u001b[39;49m\u001b[38;5;241;43m.\u001b[39;49m\u001b[43m_env\u001b[49m\u001b[43m)\u001b[49m\n\u001b[1;32m    301\u001b[0m \u001b[38;5;66;03m# get the reward for this step\u001b[39;00m\n\u001b[1;32m    302\u001b[0m reward \u001b[38;5;241m=\u001b[39m \u001b[38;5;28mfloat\u001b[39m(\u001b[38;5;28mself\u001b[39m\u001b[38;5;241m.\u001b[39m_get_reward())\n",
      "\u001b[0;31mKeyboardInterrupt\u001b[0m: "
     ]
    }
   ],
   "source": [
    "# Create a flag - restart or not\n",
    "done = True\n",
    "# loop over every frame of the game\n",
    "for step in range(100000):\n",
    "    # start the game to begin with\n",
    "    if done:\n",
    "        # this is where the game start/reset\n",
    "        env.reset()\n",
    "    # do env.action_space.sample() generates a random action\n",
    "    state, reward, done, info = env.step(env.action_space.sample())\n",
    "    # show the game\n",
    "    env.render()\n",
    "# close the game\n",
    "env.close"
   ]
  },
  {
   "cell_type": "code",
   "execution_count": 4,
   "id": "1c60f2f6",
   "metadata": {},
   "outputs": [],
   "source": [
    "# Print functions\n",
    "# state = env.reset()\n",
    "# env.step(1)[3]"
   ]
  },
  {
   "cell_type": "markdown",
   "id": "62d02ebd",
   "metadata": {},
   "source": [
    "# Pre-processing"
   ]
  },
  {
   "cell_type": "code",
   "execution_count": 8,
   "id": "79faa567",
   "metadata": {},
   "outputs": [],
   "source": [
    "# Import Frame Stacker Wrapper and GrayScaling wrapper\n",
    "from gym.wrappers import FrameStack, GrayScaleObservation\n",
    "# Import Vectorization Wrapper\n",
    "from stable_baselines3.common.vec_env import VecFrameStack, DummyVecEnv\n",
    "# Import Matplotlib to show impact of framestacking\n",
    "from matplotlib import pyplot as plt"
   ]
  },
  {
   "cell_type": "code",
   "execution_count": 10,
   "id": "b2ae426a",
   "metadata": {},
   "outputs": [
    {
     "name": "stderr",
     "output_type": "stream",
     "text": [
      "/home/dexter/anaconda3/envs/rl_gym/lib/python3.10/site-packages/gym/utils/passive_env_checker.py:97: UserWarning: \u001b[33mWARN: We recommend you to use a symmetric and normalized Box action space (range=[-1, 1]) https://stable-baselines3.readthedocs.io/en/master/guide/rl_tips.html\u001b[0m\n",
      "  logger.warn(\n"
     ]
    }
   ],
   "source": [
    "# 1. Create base environment\n",
    "env = gym_super_mario_bros.make('SuperMarioBros-v3')\n",
    "# 2. Simplify controls\n",
    "env = JoypadSpace(env, SIMPLE_MOVEMENT)\n",
    "# 3. Greyscale (debug state = env.reset(), state.shape, plt.imshow(state))\n",
    "env = GrayScaleObservation(env, keep_dim=True)\n",
    "# 4."
   ]
  },
  {
   "cell_type": "code",
   "execution_count": 11,
   "id": "053d83aa",
   "metadata": {},
   "outputs": [
    {
     "data": {
      "text/plain": [
       "<matplotlib.image.AxesImage at 0x7fef3177cfa0>"
      ]
     },
     "execution_count": 11,
     "metadata": {},
     "output_type": "execute_result"
    },
    {
     "data": {
      "image/png": "[encoded data removed]",
      "text/plain": [
       "<Figure size 640x480 with 1 Axes>"
      ]
     },
     "metadata": {},
     "output_type": "display_data"
    }
   ],
   "source": [
    "state = env.reset()\n",
    "plt.imshow(state)"
   ]
  },
  {
   "cell_type": "code",
   "execution_count": null,
   "id": "b29bbc5b",
   "metadata": {},
   "outputs": [],
   "source": []
  }
 ],
 "metadata": {
  "kernelspec": {
   "display_name": "Python 3 (ipykernel)",
   "language": "python",
   "name": "python3"
  },
  "language_info": {
   "codemirror_mode": {
    "name": "ipython",
    "version": 3
   },
   "file_extension": ".py",
   "mimetype": "text/x-python",
   "name": "python",
   "nbconvert_exporter": "python",
   "pygments_lexer": "ipython3",
   "version": "3.10.9"
  }
 },
 "nbformat": 4,
 "nbformat_minor": 5
}
