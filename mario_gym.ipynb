{
 "cells": [
  {
   "cell_type": "markdown",
   "id": "f8a8bf07",
   "metadata": {},
   "source": [
    "## Setup Mario"
   ]
  },
  {
   "cell_type": "code",
   "execution_count": null,
   "id": "80b05468",
   "metadata": {},
   "outputs": [],
   "source": [
    "pip install -r requirement.txt"
   ]
  },
  {
   "cell_type": "code",
   "execution_count": null,
   "id": "c41e1429",
   "metadata": {},
   "outputs": [],
   "source": [
    "# Import game\n",
    "import gym_super_mario_bros\n",
    "# Import joypad wrapper\n",
    "from nes_py.wrappers import JoypadSpace\n",
    "# Import simplified control\n",
    "from gym_super_mario_bros.actions import SIMPLE_MOVEMENT"
   ]
  },
  {
   "cell_type": "code",
   "execution_count": null,
   "id": "8ee287eb",
   "metadata": {},
   "outputs": [],
   "source": [
    "# Setup game\n",
    "env = gym_super_mario_bros.make('SuperMarioBros-v0')\n",
    "# Simple movement allows better training (less complicated control)\n",
    "env = JoypadSpace(env, SIMPLE_MOVEMENT)"
   ]
  },
  {
   "cell_type": "code",
   "execution_count": null,
   "id": "472371a8",
   "metadata": {},
   "outputs": [],
   "source": [
    "# Print functions\n",
    "# SIMPLE_MOVEMENT\n",
    "# env.action_space.sample()\n",
    "# SIMPLE_MOVEMENT[env.action_space.sample()]\n",
    "# env.observation_space.shape"
   ]
  },
  {
   "cell_type": "code",
   "execution_count": null,
   "id": "e8142477",
   "metadata": {},
   "outputs": [],
   "source": [
    "# Create a flag - restart or not\n",
    "done = True\n",
    "# loop over every frame of the game\n",
    "for step in range(100000):\n",
    "    # start the game to begin with\n",
    "    if done:\n",
    "        # this is where the game start/reset\n",
    "        env.reset()\n",
    "    # do env.action_space.sample() generates a random action\n",
    "    state, reward, done, info = env.step(env.action_space.sample())\n",
    "    # show the game\n",
    "    env.render()\n",
    "# close the game\n",
    "env.close"
   ]
  },
  {
   "cell_type": "code",
   "execution_count": null,
   "id": "1c60f2f6",
   "metadata": {},
   "outputs": [],
   "source": [
    "# Print functions\n",
    "# state = env.reset()\n",
    "# env.step(1)[3]"
   ]
  },
  {
   "cell_type": "code",
   "execution_count": null,
   "id": "ba65e2de",
   "metadata": {},
   "outputs": [],
   "source": [
    "env.close()"
   ]
  },
  {
   "cell_type": "markdown",
   "id": "62d02ebd",
   "metadata": {},
   "source": [
    "# Pre-processing"
   ]
  },
  {
   "cell_type": "code",
   "execution_count": null,
   "id": "79faa567",
   "metadata": {},
   "outputs": [],
   "source": [
    "# Import Frame Stacker Wrapper and GrayScaling wrapper\n",
    "from gym.wrappers import FrameStack, GrayScaleObservation\n",
    "# Import Vectorization Wrapper\n",
    "from stable_baselines3.common.vec_env import VecFrameStack, DummyVecEnv\n",
    "# Import Matplotlib to show impact of framestacking\n",
    "from matplotlib import pyplot as plt"
   ]
  },
  {
   "cell_type": "code",
   "execution_count": null,
   "id": "b2ae426a",
   "metadata": {},
   "outputs": [],
   "source": [
    "# 1. Create base environment\n",
    "env = gym_super_mario_bros.make('SuperMarioBros-v3')\n",
    "# 2. Simplify controls\n",
    "env = JoypadSpace(env, SIMPLE_MOVEMENT)\n",
    "# 3. Greyscale (debug state = env.reset(), state.shape, plt.imshow(state))\n",
    "env = GrayScaleObservation(env, keep_dim=True)\n",
    "# 4."
   ]
  },
  {
   "cell_type": "code",
   "execution_count": null,
   "id": "053d83aa",
   "metadata": {},
   "outputs": [],
   "source": [
    "state = env.reset()\n",
    "plt.imshow(state)"
   ]
  },
  {
   "cell_type": "code",
   "execution_count": null,
   "id": "b29bbc5b",
   "metadata": {},
   "outputs": [],
   "source": []
  }
 ],
 "metadata": {
  "kernelspec": {
   "display_name": "Python 3 (ipykernel)",
   "language": "python",
   "name": "python3"
  },
  "language_info": {
   "codemirror_mode": {
    "name": "ipython",
    "version": 3
   },
   "file_extension": ".py",
   "mimetype": "text/x-python",
   "name": "python",
   "nbconvert_exporter": "python",
   "pygments_lexer": "ipython3",
   "version": "3.10.9"
  }
 },
 "nbformat": 4,
 "nbformat_minor": 5
}
